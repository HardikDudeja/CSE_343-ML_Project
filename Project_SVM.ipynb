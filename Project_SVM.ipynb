{
 "cells": [
  {
   "cell_type": "code",
   "execution_count": 1,
   "id": "7fa7fcde",
   "metadata": {},
   "outputs": [
    {
     "name": "stdout",
     "output_type": "stream",
     "text": [
      "Training Shape: (75000, 1965) , Testing Shape: (25000, 1965)\n"
     ]
    }
   ],
   "source": [
    "import pandas as pd\n",
    "import numpy as np\n",
    "import csv\n",
    "from sklearn.metrics import classification_report\n",
    "\n",
    "\n",
    "# Loading the input data in pandas dataframe\n",
    "x_train = pd.read_csv(\"ML_data/df_train_2.csv\", header = [0]) \n",
    "x_test = pd.read_csv(\"ML_data/df_test_2.csv\", header = [0]) \n",
    "print(\"Training Shape:\", x_train.shape,\", Testing Shape:\", x_test.shape)\n",
    "\n",
    "\n",
    "# Loading the output data in pandas dataframe\n",
    "y_train = pd.read_csv(\"ML_data/y_train.csv\",header=None)\n",
    "y_test = pd.read_csv(\"ML_data/y_test.csv\",header=None)\n",
    "\n",
    "\n",
    "# Converting the inputs and outputs to the numpy array\n",
    "X_train = x_train.copy().to_numpy()\n",
    "X_test = x_test.copy().to_numpy()\n",
    "Y_train = y_train.copy().to_numpy().reshape(-1)\n",
    "Y_test = y_test.copy().to_numpy().reshape(-1)"
   ]
  },
  {
   "cell_type": "code",
   "execution_count": null,
   "id": "72b70b75",
   "metadata": {},
   "outputs": [],
   "source": [
    "\"\"\" ------------ Best Model  -----------------\"\"\"\n",
    "\n",
    "from sklearn import svm\n",
    "\n",
    "model = svm.SVC(decision_function_shape='ovo')\n",
    "model.fit(X_train, Y_train)\n",
    "\n",
    "#Classification Report\n",
    "y_pred_train = model.predict(X_train)\n",
    "y_pred_test = model.predict(X_test)\n",
    "\n",
    "print(\"Classification Report:Training\")\n",
    "print(classification_report(Y_train, y_pred_train))\n",
    "\n",
    "print(\"Classification Report:Testing\")\n",
    "print(classification_report(Y_test, y_pred_test))"
   ]
  },
  {
   "cell_type": "code",
   "execution_count": null,
   "id": "fee66f50",
   "metadata": {},
   "outputs": [],
   "source": [
    "#saving the classifier \n",
    "import joblib\n",
    "\n",
    "joblib_file = \"SVM_Classifier.pkl\"  \n",
    "joblib.dump(model, joblib_file)"
   ]
  },
  {
   "cell_type": "code",
   "execution_count": null,
   "id": "7848516b",
   "metadata": {},
   "outputs": [],
   "source": []
  }
 ],
 "metadata": {
  "kernelspec": {
   "display_name": "Python 3",
   "language": "python",
   "name": "python3"
  },
  "language_info": {
   "codemirror_mode": {
    "name": "ipython",
    "version": 3
   },
   "file_extension": ".py",
   "mimetype": "text/x-python",
   "name": "python",
   "nbconvert_exporter": "python",
   "pygments_lexer": "ipython3",
   "version": "3.8.8"
  }
 },
 "nbformat": 4,
 "nbformat_minor": 5
}
