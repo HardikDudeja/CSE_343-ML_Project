{
  "nbformat": 4,
  "nbformat_minor": 0,
  "metadata": {
    "colab": {
      "name": "Project_ KNN.ipynb",
      "provenance": []
    },
    "kernelspec": {
      "name": "python3",
      "display_name": "Python 3"
    },
    "language_info": {
      "name": "python"
    }
  },
  "cells": [
    {
      "cell_type": "code",
      "metadata": {
        "id": "WeACnGNK9jZR"
      },
      "source": [
        "import pandas as pd\n",
        "import numpy as np\n",
        "import csv\n",
        "from sklearn.metrics import classification_report"
      ],
      "execution_count": null,
      "outputs": []
    },
    {
      "cell_type": "code",
      "metadata": {
        "colab": {
          "base_uri": "https://localhost:8080/"
        },
        "id": "dTD58SOkATx6",
        "outputId": "8249853f-ff53-49b5-a49f-e891620e2dbd"
      },
      "source": [
        "from google.colab import drive\n",
        "drive.mount('/content/drive')"
      ],
      "execution_count": null,
      "outputs": [
        {
          "output_type": "stream",
          "name": "stdout",
          "text": [
            "Mounted at /content/drive\n"
          ]
        }
      ]
    },
    {
      "cell_type": "code",
      "metadata": {
        "colab": {
          "base_uri": "https://localhost:8080/"
        },
        "id": "38w1Y-ZGAIV3",
        "outputId": "14b21d4d-91c2-4f35-a790-c0870a35b744"
      },
      "source": [
        "# Loading the input data in pandas dataframe\n",
        "x_train = pd.read_csv(\"/content/drive/MyDrive/ML_data/df_train_2.csv\", header = [0]) \n",
        "x_test = pd.read_csv(\"/content/drive/MyDrive/ML_data/df_test_2.csv\", header = [0]) \n",
        "print(\"Training Shape:\", x_train.shape,\", Testing Shape:\", x_test.shape)\n",
        "\n",
        "\n",
        "# Loading the output data in pandas dataframe\n",
        "y_train = pd.read_csv(\"/content/drive/MyDrive/ML_data/y_train.csv\",header=None)\n",
        "y_test = pd.read_csv(\"/content/drive/MyDrive/ML_data/y_test.csv\",header=None)\n",
        "\n",
        "\n",
        "# Converting the inputs and outputs to the numpy array\n",
        "X_train = x_train.copy().to_numpy()\n",
        "X_test = x_test.copy().to_numpy()\n",
        "Y_train = y_train.copy().to_numpy().reshape(-1)\n",
        "Y_test = y_test.copy().to_numpy().reshape(-1)"
      ],
      "execution_count": null,
      "outputs": [
        {
          "output_type": "stream",
          "name": "stdout",
          "text": [
            "Training Shape: (75000, 1965) , Testing Shape: (25000, 1965)\n"
          ]
        }
      ]
    },
    {
      "cell_type": "code",
      "metadata": {
        "id": "GJbbPJC0BlPM"
      },
      "source": [
        "\"\"\"  ------------ Best Model  -----------------\"\"\"\n",
        "\n",
        "from sklearn.neighbors import KNeighborsClassifier\n",
        "\n",
        "model = KNeighborsClassifier()\n",
        "model.fit(X_train, Y_train)\n",
        "\n",
        "#Classification Report\n",
        "y_pred_train = model.predict(X_train)\n",
        "y_pred_test = model.predict(X_test)\n",
        "\n",
        "print(\"Classification Report:Training\")\n",
        "print(classification_report(Y_train, y_pred_train))\n",
        "\n",
        "print(\"Classification Report:Testing\")\n",
        "print(classification_report(Y_test, y_pred_test))"
      ],
      "execution_count": null,
      "outputs": []
    },
    {
      "cell_type": "code",
      "metadata": {
        "id": "T0t4XKb0UnYI"
      },
      "source": [
        "#saving the classifier \n",
        "import joblib\n",
        "\n",
        "joblib_file = \"KNN_Classifier.pkl\"  \n",
        "joblib.dump(model, joblib_file)"
      ],
      "execution_count": null,
      "outputs": []
    }
  ]
}