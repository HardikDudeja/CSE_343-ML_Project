{
 "cells": [
  {
   "cell_type": "code",
   "execution_count": null,
   "id": "33fe35f6",
   "metadata": {},
   "outputs": [],
   "source": [
    "\"\"\"\n",
    "importing necessary libraries\n",
    "\"\"\"\n",
    "import numpy as np\n",
    "import pandas as pd\n",
    "import csv\n",
    "from sklearn.neural_network import MLPClassifier\n",
    "from sklearn.model_selection import GridSearchCV"
   ]
  },
  {
   "cell_type": "code",
   "execution_count": null,
   "id": "41bdd17b",
   "metadata": {},
   "outputs": [],
   "source": [
    "x_train = pd.read_csv('df_train_2.csv')\n",
    "x_train"
   ]
  },
  {
   "cell_type": "code",
   "execution_count": null,
   "id": "77fbd11c",
   "metadata": {},
   "outputs": [],
   "source": [
    "x_test = pd.read_csv('df_test_2.csv')\n",
    "x_test"
   ]
  },
  {
   "cell_type": "code",
   "execution_count": null,
   "id": "a9e903e0",
   "metadata": {},
   "outputs": [],
   "source": [
    "y_train = pd.read_csv('y_train.csv', header = None)\n",
    "y_train = np.array(y_train.values.reshape(-1), dtype = int)\n",
    "y_train.shape"
   ]
  },
  {
   "cell_type": "code",
   "execution_count": null,
   "id": "064148e0",
   "metadata": {},
   "outputs": [],
   "source": [
    "y_test = pd.read_csv('y_test.csv', header = None)\n",
    "y_test = np.array(y_test.values.reshape(-1), dtype = int)\n",
    "y_test.sha"
   ]
  },
  {
   "cell_type": "code",
   "execution_count": null,
   "id": "662afb86",
   "metadata": {},
   "outputs": [],
   "source": [
    "\"\"\"\n",
    "MLP classifier with default parameters\n",
    "\"\"\"\n",
    "clf = MLPClassifier()\n",
    "clf.fit(x_train, y_train)"
   ]
  },
  {
   "cell_type": "code",
   "execution_count": null,
   "id": "8b9302f0",
   "metadata": {},
   "outputs": [],
   "source": [
    "\"\"\"\n",
    "Score i.e accuracy with default parameters\n",
    "\"\"\"\n",
    "print(clf.score(x_train, y_train))\n",
    "print(clf.score(x_test, y_test))"
   ]
  },
  {
   "cell_type": "code",
   "execution_count": null,
   "id": "0223b971",
   "metadata": {},
   "outputs": [],
   "source": [
    "param_grid = {'hidden_layer_sizes' : [(64, 32, )],\n",
    "             'activation': ['tanh', 'relu', 'sigmoid'],\n",
    "             'alpha': [0.0001, 0.001, 0.01], \n",
    "             'learning_rate_init' : [0.001, 0.01]}"
   ]
  },
  {
   "cell_type": "code",
   "execution_count": null,
   "id": "a0072b76",
   "metadata": {},
   "outputs": [],
   "source": [
    "clf = MLPClassifier()\n",
    "grid_search = GridSearchCV(clf, param_grid, scoring=\"accuracy\", return_train_score=True, verbose=True)\n",
    "grid_search.fit(x_train, y_train)"
   ]
  },
  {
   "cell_type": "code",
   "execution_count": null,
   "id": "61c9860b",
   "metadata": {},
   "outputs": [],
   "source": [
    "\"\"\"\n",
    "MLP classifier with changed parameters\n",
    "\"\"\"\n",
    "clf = MLPClassifier(hidden_layer_sizes=[64, 32, ], activation='logistic', max_iter=150)\n",
    "clf.fit(x_train, y_train)\n",
    "print(clf.score(x_train, y_train))\n",
    "print(clf.score(x_test, y_test))"
   ]
  }
 ],
 "metadata": {
  "kernelspec": {
   "display_name": "Python 3",
   "language": "python",
   "name": "python3"
  },
  "language_info": {
   "codemirror_mode": {
    "name": "ipython",
    "version": 3
   },
   "file_extension": ".py",
   "mimetype": "text/x-python",
   "name": "python",
   "nbconvert_exporter": "python",
   "pygments_lexer": "ipython3",
   "version": "3.8.8"
  }
 },
 "nbformat": 4,
 "nbformat_minor": 5
}
